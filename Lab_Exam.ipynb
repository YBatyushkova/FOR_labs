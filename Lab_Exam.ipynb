{
  "nbformat": 4,
  "nbformat_minor": 0,
  "metadata": {
    "colab": {
      "provenance": [],
      "collapsed_sections": [
        "DYXbB-c0BXtD",
        "FVjm_oLwCGIR",
        "e4PcEw8cRsoS",
        "96JdEjGBTj5k",
        "PZMDFi6RU7HV",
        "IvreLfhqX0AD",
        "hFlkNClGu7pd",
        "26uawQIePvf2",
        "3boDAaQMP161"
      ],
      "toc_visible": true,
      "authorship_tag": "ABX9TyPsdZjeDrMkNzQiHRomC2zb",
      "include_colab_link": true
    },
    "kernelspec": {
      "name": "python3",
      "display_name": "Python 3"
    },
    "language_info": {
      "name": "python"
    }
  },
  "cells": [
    {
      "cell_type": "markdown",
      "metadata": {
        "id": "view-in-github",
        "colab_type": "text"
      },
      "source": [
        "<a href=\"https://colab.research.google.com/github/YBatyushkova/FOR_labs/blob/main/Lab_Exam.ipynb\" target=\"_parent\"><img src=\"https://colab.research.google.com/assets/colab-badge.svg\" alt=\"Open In Colab\"/></a>"
      ]
    },
    {
      "cell_type": "markdown",
      "source": [
        "# Technical intro"
      ],
      "metadata": {
        "id": "KuW41KN2KRRh"
      }
    },
    {
      "cell_type": "code",
      "source": [
        "# When using Colab, make sure you run this instruction beforehand\n",
        "!pip install --upgrade cffi==1.15.0\n",
        "import importlib\n",
        "import cffi\n",
        "importlib.reload(cffi)\n",
        "!pip install mip"
      ],
      "metadata": {
        "colab": {
          "base_uri": "https://localhost:8080/"
        },
        "id": "RrQ5IEDepaDg",
        "outputId": "9ccc3d2c-a17d-467c-8883-632faeac8e64"
      },
      "execution_count": 11,
      "outputs": [
        {
          "output_type": "stream",
          "name": "stdout",
          "text": [
            "Looking in indexes: https://pypi.org/simple, https://us-python.pkg.dev/colab-wheels/public/simple/\n",
            "Requirement already satisfied: cffi==1.15.0 in /usr/local/lib/python3.8/dist-packages (1.15.0)\n",
            "Requirement already satisfied: pycparser in /usr/local/lib/python3.8/dist-packages (from cffi==1.15.0) (2.21)\n",
            "Looking in indexes: https://pypi.org/simple, https://us-python.pkg.dev/colab-wheels/public/simple/\n",
            "Requirement already satisfied: mip in /usr/local/lib/python3.8/dist-packages (1.15.0)\n",
            "Requirement already satisfied: cffi==1.15.* in /usr/local/lib/python3.8/dist-packages (from mip) (1.15.0)\n",
            "Requirement already satisfied: pycparser in /usr/local/lib/python3.8/dist-packages (from cffi==1.15.*->mip) (2.21)\n"
          ]
        }
      ]
    },
    {
      "cell_type": "markdown",
      "source": [
        "# AMPL exercises"
      ],
      "metadata": {
        "id": "DYXbB-c0BXtD"
      }
    },
    {
      "cell_type": "markdown",
      "source": [
        "## Previous years exams"
      ],
      "metadata": {
        "id": "FVjm_oLwCGIR"
      }
    },
    {
      "cell_type": "markdown",
      "source": [
        "**1) 01.2019**\n",
        "\n",
        "Write the definition in the AMPL modelling language of the following:\n",
        "\n",
        "* a set $I$ of all the integers between 1 and 10.\n",
        "* a positive variable $x_i$ with $i ∈ {I ∪ 0}$.\n",
        "* a parameter $b_{i,j}$ with $i ∈ I$ and $j ∈ {I ∪ 0}$.\n",
        "\n",
        "Then using the defined variables and parameters write in the AMPL modelling language the following **constraint**:\n",
        "\n",
        "$$\n",
        "\\sum_{i \\in I}\\sum_{j \\in I} b_{i,j}x_j \\le \\sum_{i \\in I}b_{i,0}x_0\n",
        "$$"
      ],
      "metadata": {
        "id": "2HXTa5kNCMwr"
      }
    },
    {
      "cell_type": "code",
      "source": [
        "import mip\n",
        "import numpy as np\n",
        "\n",
        "m1 = mip.Model()\n",
        "\n",
        "I = [i for i in range(1,11)]\n",
        "\n",
        "x = {i : m1.add_var() for i in ([0] + I)}\n",
        "b = {(i,j) : np.random.randint(0, 10 + 1) for i in I for j in ([0] + I)}\n",
        "\n",
        "#print([b[i,0] for i in I])\n",
        "\n",
        "m1.add_constr(mip.xsum((mip.xsum(b[i,j]*x[j] for j in I)) for i in I) <= mip.xsum(b[i,0]*x[0] for i in I))"
      ],
      "metadata": {
        "colab": {
          "base_uri": "https://localhost:8080/"
        },
        "id": "u10rNoAyCQJB",
        "outputId": "922ff1b2-e58d-40c4-9dd1-8af31ac7a5be"
      },
      "execution_count": 44,
      "outputs": [
        {
          "output_type": "execute_result",
          "data": {
            "text/plain": [
              "<mip.entities.Constr at 0x7fc43d815780>"
            ]
          },
          "metadata": {},
          "execution_count": 44
        }
      ]
    },
    {
      "cell_type": "markdown",
      "source": [
        "**2) 02.2019**\n",
        "\n",
        "Write the definition in the AMPL modelling language of the following:\n",
        "* a set $I$.\n",
        "* a set $J$.\n",
        "* a parameter $b_{i,j}$ with $i ∈ I$ and $j ∈ J$.\n",
        "* an integer variable $x_{i,j}$ with $i ∈ I$ and $j ∈ J$.\n",
        "\n",
        "Then write an **objective function** that maximizes the following quantity:\n",
        "\n",
        "\n",
        "$$\n",
        "\\sum_{i \\in I, j \\in J |b_{i,j} > 0}x_{i,j}\n",
        "$$"
      ],
      "metadata": {
        "id": "5m8p6bXWE0SG"
      }
    },
    {
      "cell_type": "code",
      "source": [
        "import mip\n",
        "import numpy as np\n",
        "\n",
        "m2 = mip.Model()\n",
        "\n",
        "I = [i for i in range(10)]\n",
        "J = [j for j in range(15)]\n",
        "b = {(i,j) : np.random.randint(-10, 10) for i in I for j in J}\n",
        "\n",
        "x = {(i,j) : m2.add_var(var_type = mip.INTEGER) for i in I for j in J}\n",
        "\n",
        "m2.objective = mip.maximize(mip.xsum(x[i,j] for i in I for j in J if b[i,j]>0))"
      ],
      "metadata": {
        "id": "F_4yYBoOMirb"
      },
      "execution_count": 50,
      "outputs": []
    },
    {
      "cell_type": "markdown",
      "source": [
        "**3) 07.2019**\n",
        "\n",
        "Write the definition in the AMPL modelling language of the following:\n",
        "* a set $I$ of all the integers between 1 and 10.\n",
        "* a set $J$ of all the integers between 7 and 30.\n",
        "* a positive variable $x_{ij}$ with $i ∈ I$ and $j ∈ J$.\n",
        "* a parameter $b_j$ with $j ∈ J$.\n",
        "\n",
        "Then using the defined variables and parameters write in the AMPL modelling language the following **constraint**:\n",
        "\n",
        "$$\n",
        "\\sum_{i \\in I:i \\le b_j}x_{ij} \\le 5 \\qquad \\forall j \\in J\n",
        "$$"
      ],
      "metadata": {
        "id": "Gy7bRvlFMiAc"
      }
    },
    {
      "cell_type": "code",
      "source": [
        "import mip\n",
        "import numpy as np\n",
        "\n",
        "m3 = mip.Model()\n",
        "\n",
        "I = [i for i in range(1, 11)]\n",
        "J = [j for j in range(7,31)]\n",
        "\n",
        "x = {(i,j) : m3.add_var() for i in I for j in J}\n",
        "b = {j : np.random.randint(0,30) for j in J}\n",
        "\n",
        "for j in J:\n",
        "  m3.add_constr(mip.xsum(x[i,j] for i in I if i <= b[j]) <= 5)"
      ],
      "metadata": {
        "id": "A17M8MqcNy9R"
      },
      "execution_count": 56,
      "outputs": []
    },
    {
      "cell_type": "markdown",
      "source": [
        "**4) 09.2019**\n",
        "\n",
        "Write the definition in the AMPL modelling language of the following:\n",
        "* a set $I$.\n",
        "* a set $J$ of all the integers between 1 and 10.\n",
        "* a positive variable $x_{ij}$ with $i ∈ I$ and $j ∈ I$.\n",
        "* a parameter $b_j$ with $j ∈ J$.\n",
        "\n",
        "Then using the defined variables and parameters write in the AMPL modelling language an **objective function** that maximizes the following quantity:\n",
        "\n",
        "$$\n",
        "max \\sum_{i \\in I}\\sum_{j \\in J:i \\not = j} b_jx_{ij}\n",
        "$$"
      ],
      "metadata": {
        "id": "Q4HQU3CONzkU"
      }
    },
    {
      "cell_type": "code",
      "source": [
        "import mip\n",
        "import numpy as np\n",
        "\n",
        "m4 = mip.Model()\n",
        "I = [i for i in range(20)]\n",
        "J = [j for j in range(1,11)]\n",
        "\n",
        "x = {(i,j) : m4.add_var() for i in I for j in I}\n",
        "b = {j : np.random.randint(10) for j in J}\n",
        "\n",
        "m4.objective = mip.maximize(mip.xsum(mip.xsum(b[j]*x[i,j] for j in J if i != j) for i in I))"
      ],
      "metadata": {
        "id": "xJmFfosJPpDO"
      },
      "execution_count": 57,
      "outputs": []
    },
    {
      "cell_type": "markdown",
      "source": [
        "**5) 07.2021**\n",
        "\n",
        "Write the definition in the AMPL modelling language of the following:\n",
        "* two parameters $a$ and $b$.\n",
        "* a set $I$ of all the integers between $a$ and $b$ (assume that $a < b$).\n",
        "* a binary variable $x_{i,j}$ with $i, j ∈ I$.\n",
        "* a parameter $b_i$ with $i ∈ I$.\n",
        "\n",
        "Then using the defined variables and parameters write in the AMPL modelling language the following **constraint**:\n",
        "\n",
        "$$\n",
        "\\sum_{j \\in I:i \\not = j} x_{i,j} \\le 5 \\qquad \\forall i \\in I, b_i > 1\n",
        "$$"
      ],
      "metadata": {
        "id": "gL0kiLXfPpbM"
      }
    },
    {
      "cell_type": "code",
      "source": [
        "import mip\n",
        "import numpy as np\n",
        "m5 = mip.Model()\n",
        "a = 3\n",
        "b = 17\n",
        "\n",
        "I = [i for i in range(a, 1 + b)]\n",
        "x = {(i,j) : m5.add_var(var_type = mip.BINARY) for i in I for j in I}\n",
        "b = {i : np.random.randint(10) for i in I}\n",
        "\n",
        "for i in I:\n",
        "  if b[i] > 1:\n",
        "    m5.add_constr(mip.xsum(x[i,j] for j in I if i != j) <= 5)"
      ],
      "metadata": {
        "id": "bNra1X04RZce"
      },
      "execution_count": 60,
      "outputs": []
    },
    {
      "cell_type": "markdown",
      "source": [
        "## Example WeBeep (2021)"
      ],
      "metadata": {
        "id": "e4PcEw8cRsoS"
      }
    },
    {
      "cell_type": "markdown",
      "source": [
        "The director of a theater must organize the playbill for the upcoming season. A total of $m$ plays must be organized (described by the set $P = 1, . . . , m$). The theater offers several types of performances, described by the set $S$.\n",
        "\n",
        "The shows are organized by $n$ companies (described by the set $C = 1, . . . , n$). Each company $i ∈ C$ specializes in a particular type of show $a_i$ and is willing to perform up to $l_i$ shows in the upcoming season.\n",
        "\n",
        "To guarantee the variety of the season, the theater must have at least $k_j$ planned shows of each type in the playbill $j ∈ S$.\n",
        "\n",
        "Some time-slots of the playbill ($L ⊂ P$ is the set of the plays that have to follow this criteria) are scheduled to occur very late at night. To respect the sleep of local residents, the director decided to not schedule any concert ($a_i$ = “concert”) in these slots.\n",
        "\n",
        "For each company $i ∈ C$ we know the staging cost $c_i$ and the expected\n",
        "revenue $r_i$ of the show. Write the linear programming model of the problem of\n",
        "deciding which shows to put on the bill with the objective of maximizing the\n",
        "balance between profits and costs."
      ],
      "metadata": {
        "id": "FQn8KAHjRy0s"
      }
    },
    {
      "cell_type": "code",
      "source": [
        "import mip\n",
        "import numpy as np\n",
        "\n",
        "m = 8\n",
        "P = [j for j in range(m)] # slots in the playbill\n",
        "L = [3, 5, 7] # late time slots\n",
        "\n",
        "n = 5\n",
        "C = [i for i in range(n)] # companies\n",
        "\n",
        "S = [\"concert\", \"play\", \"opera\"] # types of shows\n",
        "\n",
        "a = {0 : \"concert\",\n",
        "     1 : \"opera\",\n",
        "     2 : \"play\",\n",
        "     3 : \"concert\",\n",
        "     4 : \"opera\"} # type of show of each company\n",
        "\n",
        "l = {0 : 4,\n",
        "     1 : 2,\n",
        "     2 : 1,\n",
        "     3 : 2,\n",
        "     4 : 3} # number of shows each comp. can organize\n",
        "\n",
        "c = {0 : 500,\n",
        "     1 : 600,\n",
        "     2 : 300,\n",
        "     3 : 500,\n",
        "     4 : 200} # staging cost of the show of each company\n",
        "\n",
        "r = {0 : 1500,\n",
        "     1 : 2000,\n",
        "     2 : 1800,\n",
        "     3 : 2300,\n",
        "     4 : 1500} # revenue of the show of each company\n",
        "\n",
        "k = {\"concert\" : 2,\n",
        "     \"play\" : 1,\n",
        "     \"opera\" : 4} # min number of shows of the particular type\n",
        "\n",
        "m8 = mip.Model()\n",
        "\n",
        "x = {(j,i) : m8.add_var(var_type = mip.BINARY) for j in P for i in C} # variable that indicates which company i org. the show in the slot j\n",
        "\n",
        "for s in S:\n",
        "  m8.add_constr(mip.xsum(x[j,i] for j in P for i in C if a[i] == s) >= k[s])\n",
        "\n",
        "for i in C:\n",
        "  m8.add_constr(mip.xsum(x[j,i] for j in P) <= l[i])\n",
        "\n",
        "for j in L:\n",
        "  for i in C:\n",
        "    if a[i] == \"concert\":\n",
        "      m8.add_constr(x[j,i] == 0)\n",
        "\n",
        "for j in P:\n",
        "  m8.add_constr(mip.xsum(x[j,i] for i in C) == 1)\n",
        "\n",
        "m8.objective = mip.maximize(mip.xsum((r[i] - c[i])*x[j,i] for j in P for i in C))\n",
        "m8.optimize()\n",
        "\n",
        "print(m8.objective_value)\n",
        "\n",
        "for j in P:\n",
        "  for i in C:\n",
        "    if x[j,i].x == 1:\n",
        "      print(f'{j} - {a[i]} organized by {C[i]}')"
      ],
      "metadata": {
        "colab": {
          "base_uri": "https://localhost:8080/"
        },
        "id": "eD3rBC5PTOcu",
        "outputId": "bc2ae127-3e56-448e-e41a-420986da2a6f"
      },
      "execution_count": 7,
      "outputs": [
        {
          "output_type": "stream",
          "name": "stdout",
          "text": [
            "11800.0\n",
            "0 - concert organized by 3\n",
            "1 - play organized by 2\n",
            "2 - concert organized by 3\n",
            "3 - opera organized by 4\n",
            "4 - opera organized by 1\n",
            "5 - opera organized by 4\n",
            "6 - opera organized by 1\n",
            "7 - opera organized by 4\n"
          ]
        }
      ]
    },
    {
      "cell_type": "markdown",
      "source": [
        "## Website (2007)"
      ],
      "metadata": {
        "id": "96JdEjGBTj5k"
      }
    },
    {
      "cell_type": "markdown",
      "source": [
        "**1)** A small cheese factory produces $m$ kinds of cheese. To produce one kg of cheese $j$, $L_{jI}$ litres of full cream milk and $L_{jS}$ litres of skimmed milk are needed, where $j=1,…,m$. The factory can produce at most $Q$ kg per day. For the next $n$ days, the demand of cheese $j$, with $j=1,…,m$, for each day $t=1,…,n$, is $d_{jt}$.\n",
        "\n",
        "The maximum amount of available full cream and skimmed milk per day $t=1,…,n$ is $b_{It}$ and $b_{St}$, respectively.\n",
        "\n",
        "Note that the milk available in day $t$ which is not used in day $t$ cannot be used in the successive days. The factory has a warehouse (empty at the beginning of the considered time horizon) whose capacity is $K$.\n",
        "\n",
        "In the warehouse, the produced cheese can be stored to be sold afterwards. The factory must **meet the demand exactly**. For each cheese $j$, with $j=1,…,m$, a daily storing cost per kg is given, denoted by $c_j$. Formulate the problem of minimizing the storing cost, while satisfying the constraint on the available resources, on the production capacity and on the warehouse, and meeting the demand every day.\n",
        "\n",
        "Formulate the problem as a Linear Programming problem."
      ],
      "metadata": {
        "id": "sefw3q4MTqWw"
      }
    },
    {
      "cell_type": "code",
      "source": [],
      "metadata": {
        "id": "Gv9Pq6xKTjWo"
      },
      "execution_count": null,
      "outputs": []
    },
    {
      "cell_type": "markdown",
      "source": [
        "**2)** The director of a sailing summer school received A applications for enrollment for the basic course and and applications for enrollment for the advanced course. The school has S skippers who can take both the basic and advanced courses, but who can only be assigned to one course at a time. The basic course takes place in a group: each skipper j..,S, can handle at most b persone people in its basic course.\n",
        "Advanced courses, on the other hand, require each student to have a skipper who is dedicated only to him.\n",
        "The school director must decide which applications to accept, which skippers to hire and how to assign pupils to skippers. The school must ensure that at least K questions for the advanced course are met. Knowing that enrollment in a basic course costs r, that in an advanced course costs c and that the salary of a skipper destined for a basic course is g, while it is l if the skipper is destined for an advanced course, write the model in linear programming of the problem of maximizing the difference between earnings and costs."
      ],
      "metadata": {
        "id": "zJ30UXg7UIhs"
      }
    },
    {
      "cell_type": "code",
      "source": [],
      "metadata": {
        "id": "fo8DHru1UbPL"
      },
      "execution_count": null,
      "outputs": []
    },
    {
      "cell_type": "markdown",
      "source": [
        "## Lab project (2021)"
      ],
      "metadata": {
        "id": "PZMDFi6RU7HV"
      }
    },
    {
      "cell_type": "markdown",
      "source": [
        "A company is planning on installing a series of unstaffed mini-markets in a rural area. This way, citizens that live far\n",
        "from conventional stores may buy their groceries without needing the car. Specifically, the company wants to serve a set\n",
        "of n houses whose coordinates in kilometers are described by parameters Cx and Cy. Some, but not all of the houses, gave\n",
        "permission to the company to build a mini-marked on their property in exchange for a small compensation. Whether\n",
        "or not it is possible to build a mini-market at house i is described by parameter usable[i]. All considered, the cost\n",
        "of building a mini-market at house i is Dc[i]. The company wants to plan the construction of mini-markets so that\n",
        "each house is at most range kilometers away (euclidean distance) from a mini-market and, the total construction cost is\n",
        "minimized."
      ],
      "metadata": {
        "id": "GjofGWQCVvTA"
      }
    },
    {
      "cell_type": "markdown",
      "source": [
        "# Python exercises"
      ],
      "metadata": {
        "id": "Ns9ZdQPIWsd8"
      }
    },
    {
      "cell_type": "markdown",
      "source": [
        "## Lab project (2022)"
      ],
      "metadata": {
        "id": "OTqa3seqVwNN"
      }
    },
    {
      "cell_type": "markdown",
      "source": [
        "### Biogas plant\n",
        "\n",
        "You want to plan the two-year supply of raw materials for a biogas power plant. Such a plant produces energy by burning biogas, which is obtained from the bacterial fermentation of organic wastes. \n",
        "Specifically, your plant is powered by corn chopping, a residual of agro-industrial operations that you can purchase from 5 local farms. \n",
        "The table below shows the quarterly capacity of each farm for the next two years. Quantities are measured in tons.\n",
        "\n",
        "Farm|T1|T2|T3|T4|T5|T6|T7|T8\n",
        ":-|:-:|:-:|:-:|:-:|:-:|:-:|:-:|:-:\n",
        "1|700|1500|700|0|0|700|1500|0\n",
        "2|1350|0|450|0|1350|0|450|0\n",
        "3|0|1500|1500|0|0|1500|1500|0\n",
        "4|820|1560|820|0|820|1560|820|0\n",
        "5|0|680|1080|0|0|680|1080|0\n",
        "\n",
        "Due to crop rotations and corn harvesting periods, farms are unable to supply material in some quarters. Moreover the types of corn chopping provided are different, each coming with its own unitary purchase price, unitary storage cost and percentage of dry matter. The table below shows a summary of these information.\n",
        "\n",
        "Farm|Purchase price|Storage cost|Dry matter\n",
        ":-|:-:|:-:|:-:\n",
        "1|0.20|0.002|15\n",
        "2|0.18|0.012|28\n",
        "3|0.19|0.007|35\n",
        "4|0.21|0.011|37\n",
        "5|0.23|0.015|42\n",
        "\n",
        "Your biogas plant must operate by burning a mixture of corn choppings with a dry matter percentage between 20% and 40%. Under these conditions, the yield is 421.6 kWh of energy per ton of burned material. The energy produced by the plant is sold on the market at a price of 0.28 $/kWh. \n",
        "\n",
        "Due to state regulations, all biogas plants can produce a maximum of 1950 MWh of energy per quarter. You are allowed to store corn chopping in a silo, whose total capacity is of 500 tons. \n",
        "\n",
        "Plan the supply and inventory of your biogas plant with the goal of maximizing your profits (i.e., revenues minus costs)."
      ],
      "metadata": {
        "id": "pZ6JeKMzV3NB"
      }
    },
    {
      "cell_type": "code",
      "source": [],
      "metadata": {
        "id": "Mkxn11FkYI1K"
      },
      "execution_count": null,
      "outputs": []
    },
    {
      "cell_type": "markdown",
      "source": [
        "## Exercises another group"
      ],
      "metadata": {
        "id": "2tZYf9-LXZJm"
      }
    },
    {
      "cell_type": "markdown",
      "source": [
        "### Diet problem"
      ],
      "metadata": {
        "id": "AuwnRCqgXqAn"
      }
    },
    {
      "cell_type": "markdown",
      "source": [
        "A canteen has to plan the composition of the meals that it provides. A meal can be composed of the types of food indicated in the following table. Costs, in Euro per hg, and availabilities, in hg, are also indicated.\n",
        "\n",
        "Food|Cost|Availability\n",
        "----|----|------------\n",
        "Bread|0.1|4\n",
        "Milk|0.5|3\n",
        "Eggs|0.12|1\n",
        "Meat|0.9|2\n",
        "Cake|1.3|2\n",
        "\n",
        "A meal must contain at least the following amount of each nutrient\n",
        "\n",
        "Nutrient|Minimal quantity\n",
        "--------|----------------\n",
        "Calories|600 cal\n",
        "Proteins|50 g\n",
        "Calcium|0.7 g\n",
        "\n",
        "Each hg of each type of food contains to following amount of nutrients\n",
        "\n",
        "Food|Calories|Proteins|Calcium\n",
        "----|--------|--------|-------\n",
        "Bread|30 cal|5 g|0.02 g\n",
        "Milk|50 cal|15 g|0.15 g\n",
        "Eggs|150 cal|30 g|0.05 g\n",
        "Meat|180 cal|90 g|0.08 g\n",
        "Cake|400 cal|70 g|0.01 g\n",
        "\n",
        "Give a linear programming formulation for the problem of finding a diet (a meal) of minimum total cost which satisfies the minimum nutrient requirements."
      ],
      "metadata": {
        "id": "C4O9_RAeXew1"
      }
    },
    {
      "cell_type": "code",
      "source": [
        "import mip\n",
        "import numpy as np\n",
        "\n",
        "F = ['Bread','Milk','Eggs','Meat','Cake'] # type of food\n",
        "N = ['Calories','Proteins','Calcium'] # type of nutrient\n",
        "\n",
        "c = {'Bread': 0.1,\n",
        "     'Milk': 0.5,\n",
        "     'Eggs': 0.12,\n",
        "     'Meat': 0.9,\n",
        "     'Cake': 1.3} #cost of food\n",
        "\n",
        "a = {'Bread': 4,\n",
        "     'Milk': 3,\n",
        "     'Eggs': 1,\n",
        "     'Meat': 2,\n",
        "     'Cake': 2} # availability\n",
        "\n",
        "q = {'Calories': 600,\n",
        "     'Proteins': 50,\n",
        "     'Calcium':0.7} # minimal quantity of each nutr. in the meal\n",
        "\n",
        "b = {('Bread','Calories'): 30, ('Bread','Proteins'): 5, ('Bread','Calcium'): 0.02,\n",
        "     ('Milk','Calories'): 50, ('Milk','Proteins'): 15, ('Milk','Calcium'): 0.15,\n",
        "     ('Eggs','Calories'): 150, ('Eggs','Proteins'): 30, ('Eggs','Calcium'): 0.05,\n",
        "     ('Meat','Calories'): 180, ('Meat','Proteins'): 90, ('Meat','Calcium'): 0.08,\n",
        "     ('Cake','Calories'): 400, ('Cake','Proteins'): 70, ('Cake','Calcium'): 0.01} # amount of nutrient per food\n",
        "\n",
        "m6 = mip.Model()\n",
        "x = {f : m6.add_var() for f in F} \n",
        "\n",
        "for f in F:\n",
        "  m6.add_constr(x[f] <= a[f])\n",
        "  \n",
        "for n in N:\n",
        "  m6.add_constr(mip.xsum(x[f]*b[f,n] for f in F) >= q[n])\n",
        "\n",
        "m6.objective = mip.minimize(mip.xsum(x[f]*c[f] for f in F))\n",
        "m6.optimize()\n",
        "\n",
        "for f in F:\n",
        "  print(f'{f} - {x[f].x}')\n",
        "\n",
        "#for i in m6.vars:\n",
        "#  print(f'{i.name} - {i.x}')"
      ],
      "metadata": {
        "colab": {
          "base_uri": "https://localhost:8080/"
        },
        "id": "N6bZ1OOYX4dG",
        "outputId": "ec9c5198-4856-4501-854c-4ca5ac13ece6"
      },
      "execution_count": 73,
      "outputs": [
        {
          "output_type": "stream",
          "name": "stdout",
          "text": [
            "Bread - 3.9999999999999996\n",
            "Milk - 3.0\n",
            "Eggs - 1.0\n",
            "Meat - 1.5000000000000002\n",
            "Cake - 0.0\n"
          ]
        }
      ]
    },
    {
      "cell_type": "markdown",
      "source": [
        "### Oil blending problem"
      ],
      "metadata": {
        "id": "IvreLfhqX0AD"
      }
    },
    {
      "cell_type": "markdown",
      "source": [
        "A refinery has to blend 4 types of oil to obtain 3 types of gasoline. The following table reports the available quantity of oil of each type (in barrels) and the respective unit cost (Euro per barrel)\n",
        "\n",
        "Oil type|Cost|Availability\n",
        "--------|----|------------\n",
        "1|9|5000\n",
        "2|7|2400\n",
        "3|12|4000\n",
        "4|6|1500\n",
        "\n",
        "\n",
        "Blending constraints are to be taken into account, since each type of gasoline must contain at least a specific, predefined, quantity of each type of oil, as indicated in the next table. The unit revenue of each type of gasoline (Euro per barrel) is also indicated\n",
        "\n",
        "Gasoline type|Requirements|Revenue\n",
        "-------------|------------|-------\n",
        "A|$\\geq$ 20% of type 2| 12\n",
        "A|$\\leq$ 30% of type 3|12\n",
        "B|$\\geq$ 40% of type 3|18\n",
        "C|$\\leq$ 50% of type 2|10\n",
        "\n",
        "Maximize the profit."
      ],
      "metadata": {
        "id": "82AD5Q2cXxkk"
      }
    },
    {
      "cell_type": "code",
      "source": [
        "import mip\n",
        "import numpy as np\n",
        "m7 = mip.Model()\n",
        "\n",
        "O = [o for o in range(1,5)] # set of oils\n",
        "G = ['A', 'B', 'C'] # set of gasolines\n",
        "x = {i : m7.add_var() for i in O} # amount of oil that we decide to blend\n",
        "#y = {i : my.add_var() for i in G} \n",
        "\n",
        "c = {1 : 9, 2 : 7, 3 : 12, 4 : 6} # cost of each oil type per barrel\n",
        "a = {1 : 5000, 2 : 2400, 3 : 4000, 4 : 1500} # availability of oils in barrels\n",
        "\n",
        "\n",
        "r = {'A' : 12, 'B' : 18, 'C' : 10} # revenue of each tipe of gasoline\n",
        "\n",
        "q_min = {('A',1) : 0, ('A',2) : 0.2, ('A',3) : 0, ('A',4) : 0,\n",
        "         ('B',1) : 0, ('B',2) : 0, ('B',3) : 0.4, ('B',4) : 0,\n",
        "         ('C',1) : 0, ('C',2) : 0, ('C',3) : 0, ('C',4) : 0}    # min quantity/percentage of oil\n",
        "\n",
        "q_max = {('A',1) : 1, ('A',2) : 1, ('A',3) : 0.3, ('A',4) : 1,\n",
        "         ('B',1) : 1, ('B',2) : 1, ('B',3) : 1, ('B',4) : 1,\n",
        "         ('C',1) : 1, ('C',2) : 0.5, ('C',3) : 1, ('C',4) : 1}    # max quantity/percentage of oil\n",
        "\n",
        "for i in O:\n",
        "  m7.add_constr(x[i] <= a[i]) # availability of oil constraints\n",
        "\n"
      ],
      "metadata": {
        "id": "a34EyL4dX5Lv"
      },
      "execution_count": 74,
      "outputs": []
    },
    {
      "cell_type": "markdown",
      "source": [
        "##  Labs 2022"
      ],
      "metadata": {
        "id": "A0hMFUp6PYIX"
      }
    },
    {
      "cell_type": "markdown",
      "source": [
        "### Cell phone"
      ],
      "metadata": {
        "id": "hFlkNClGu7pd"
      }
    },
    {
      "cell_type": "code",
      "source": [
        "import mip\n",
        "\n",
        "n_model = 2\n",
        "n_component = 6\n",
        "\n",
        "c = [110, 130]\n",
        "\n",
        "A = [[1,2],\n",
        "     [2,2],\n",
        "     [1,3],\n",
        "     [2,3],\n",
        "     [1,0],\n",
        "     [1,0]]\n",
        "\n",
        "b = [10,18,12,21,9,10]\n",
        "\n",
        "m12 = mip.Model()\n",
        "x = [m12.add_var(var_type=mip.INTEGER) for i in range(n_model)]\n",
        "\n",
        "for i in range(n_component):  \n",
        "  m12.add_constr(mip.xsum(A[i][j]*x[j] for j in range(n_model)) <= b[i])\n",
        "\n",
        "m12.objective = mip.maximize(mip.xsum(c[i]*x[i] for i  in range(n_model)))\n",
        "m12.optimize()\n",
        "\n",
        "print([x[i].x for i in range(n_model)])\n",
        "print(m12.objective_value)"
      ],
      "metadata": {
        "colab": {
          "base_uri": "https://localhost:8080/"
        },
        "id": "BSguh02EZgEs",
        "outputId": "5206a700-a79d-4fd2-e1c0-87d2b172f775"
      },
      "execution_count": 18,
      "outputs": [
        {
          "output_type": "stream",
          "name": "stdout",
          "text": [
            "[8.0, 1.0]\n",
            "1010.0\n"
          ]
        }
      ]
    },
    {
      "cell_type": "code",
      "source": [],
      "metadata": {
        "id": "zoh2bfZavBp7"
      },
      "execution_count": null,
      "outputs": []
    },
    {
      "cell_type": "markdown",
      "source": [
        "### SPT - Shortest Path Tree"
      ],
      "metadata": {
        "id": "26uawQIePvf2"
      }
    },
    {
      "cell_type": "markdown",
      "source": [
        "Find the shortest path connecting two nodes on a randomly generated graph with $k$ nodes, where two nodes are connected if their Euclidean distance is not more than $d_{\\max}$. Specifically:\n",
        "\n",
        "1. Generate $k$ points by creating random $x,y$ coordinates for each; the coordinates should be in the interval $[0,100]$;\n",
        "2. Create edges by joining all node pairs whose distance is at most $d_{\\max}$;\n",
        "3. Create the optimization model for the shortest path problem, i.e., flow-based, based on the created graph; assume the path is from node 0 to node 12;\n",
        "4. Solve the optimization model and determine the shortest path.\n",
        "\n",
        "$$\n",
        "\\begin{array}{lll}\n",
        "   \\min & \\sum_{(i,j) \\in A} d_{ij} f_{ij}\\\\\n",
        "   \\textrm{s.t.} & \\sum_{j \\in V: (i,j) \\in A} f_{ij} -  \\sum_{j \\in V: (j,i) \\in A} f_{ji} = b_i & \\forall i\\in V\\\\\n",
        "  & f_{ij} \\ge 0 & \\forall (i,j) \\in A\n",
        "\\end{array}\n",
        "$$\n",
        "\n",
        "where $b_i = \\left\\{\n",
        "   \\begin{array}{ll}\n",
        "      1 & \\textrm{if }i=s\\\\\n",
        "     -1 & \\textrm{if }i=t\\\\\n",
        "      0 & \\textrm{otherwise}\n",
        "   \\end{array}\n",
        "   \\right.$."
      ],
      "metadata": {
        "id": "eecCqA_WPnEF"
      }
    },
    {
      "cell_type": "code",
      "source": [
        "import numpy as np\n",
        "import math\n",
        "import mip\n",
        "import matplotlib.pyplot as plot\n",
        "import networkx as nx\n",
        "\n",
        "k = 15    # number of points\n",
        "grid_size = 100   # size of the grid of points\n",
        "d_max = 0.35 * grid_size    # max distance between two nodes\n",
        "\n",
        "s = 0   # starting point\n",
        "t = 12    # termination point\n",
        "\n",
        "np.random.seed(12345)    # RANDOM seed, to replicate (NUMPY)\n",
        "point = grid_size * np.random.random((k,2))   # set of k random points with two coord., multiply them by the grid_size, since random numbers are below 0\n",
        "V = [i for i in range(k)]    # set of nodes\n",
        "distance = np.array([[math.sqrt(np.sum((point[i]-point[j])**2)) for i in V] for j in V] )    # matrix of distances\n",
        "A = [(i,j) for i in V for j in V if (distance[i,j] <= d_max and i != j)]    # set of arcs, directed\n",
        "\n",
        "plot.scatter(point[:, 0], point[:, 1])    # scatter plot just to show points as circles\n",
        "plot.show()   # show the plot\n",
        "\n",
        "m = mip.Model()   # create a model\n",
        "f = {(i, j):m.add_var(var_type=mip.BINARY) for (i,j) in A}    #variables\n",
        "\n",
        "b = {i : 0 for i in V}    # define b[i] for all i\n",
        "b[s] = 1\n",
        "b[t] = -1\n",
        "\n",
        "for i in V:   # flow conservation constraint\n",
        "  m.add_constr(mip.xsum(f[i,j] for j in V if (i,j) in A) - mip.xsum(f[j,i] for j in V if (j, i) in A) == b[i])\n",
        "\n",
        "m.objective = mip.minimize(mip.xsum(distance[i,j]*f[i,j] for (i,j) in A))\n",
        "m.optimize()\n",
        "\n",
        "#print([f[i,j].x for (i,j) in A if f[i,j].x != 0])\n",
        "for (i,j) in A:\n",
        "  if f[i,j].x != 0:\n",
        "    print(i, \"--->\", j) \n",
        "\n",
        "coord = {i:(point[i,0], point[i,1]) for i in V}    # dictionary coord that has nodes as keys and (x,y) coordinates of those nodes as values, we need it to draw a graph later\n",
        "\n",
        "def draw_solution(V, A, f):   # function to draw the SPT\n",
        "  g = nx.Graph()    # initialize the graph like the model (NETWORKX)\n",
        "  g.add_nodes_from(V)   # add nodes to the graph\n",
        "  g.add_edges_from(A)   # add arcs to the graph\n",
        "  nx.draw(g, pos = coord)   # draw the graph with the coord of nodes\n",
        "\n",
        "  # Reset the graph and add only the arcs that belong to the solution, \n",
        "  # i.e. those for which the optimal value of the variable f[i,j] is nonzero\n",
        "  g.clear()\n",
        "  g.add_edges_from([(i,j) for (i,j) in A if f[i,j].x > 0])\n",
        "  nx.draw(g, pos=coord, width=2, edge_color='red')\n",
        "\n",
        "  # finally, draw a graph consisting of the sole root node, highlighted in green\n",
        "  g.clear()\n",
        "  g.add_node(s)\n",
        "  nx.draw(g, pos={s: coord[s]}, node_color='green')\n",
        "\n",
        "  g.clear()\n",
        "  g.add_node(t)\n",
        "  nx.draw(g, pos={t: coord[t]}, node_color='green')\n",
        "\n",
        "draw_solution (V, A, f)   # after defining the function, call it with the current data"
      ],
      "metadata": {
        "colab": {
          "base_uri": "https://localhost:8080/",
          "height": 622
        },
        "id": "2xxQS1zOPiBS",
        "outputId": "9db7eacb-0ac2-48b6-fa25-31055480cd10"
      },
      "execution_count": 3,
      "outputs": [
        {
          "output_type": "display_data",
          "data": {
            "text/plain": [
              "<Figure size 432x288 with 1 Axes>"
            ],
            "image/png": "[encoded data removed]"
          },
          "metadata": {
            "needs_background": "light"
          }
        },
        {
          "output_type": "stream",
          "name": "stdout",
          "text": [
            "0 ---> 3\n",
            "3 ---> 10\n",
            "10 ---> 12\n"
          ]
        },
        {
          "output_type": "display_data",
          "data": {
            "text/plain": [
              "<Figure size 432x288 with 1 Axes>"
            ],
            "image/png": "[encoded data removed]"
          },
          "metadata": {}
        }
      ]
    },
    {
      "cell_type": "markdown",
      "source": [
        "### MST - Minimum Spanning Tree"
      ],
      "metadata": {
        "id": "3boDAaQMP161"
      }
    },
    {
      "cell_type": "markdown",
      "source": [
        "A formulation of the MST problem uses *cut sets*: given a graph $G=(V,E)$ with $V$ the set of nodes and $E$ the set of edges, we create binary variables $x_{ij}$ for each $(i,j)\\in E$ such that $x_{ij}$ is 1 if $(i,j)$ is in the solution, 0 otherwise. Then the formulation includes $cut set$ inequalities.\n",
        "\n",
        "A *cut* $\\delta(S)$ in a graph $G=(V,E)$ is a subset of edges generated by a subset of nodes $S\\subset V$: an edge $(i,j)\\in E$ is in $\\delta(S)$ if exactly one among $i$ and $j$ is in $S$.\n",
        "\n",
        "\n",
        "The formulation enforces the following condition:\n",
        "\n",
        "__For any cut $\\delta(S)$ containing the set of edges $(i,j)$ with $i$ in $S\\subset V$ and $j$ in $V\\setminus S$, there must be at least one edge of $\\delta(S)$ in the solution.__\n",
        "\n",
        "This implies that a formulation for the MST is \n",
        "\n",
        "$$\n",
        "\\begin{array}{lll}\n",
        "  \\min & \\sum_{(i,j)\\in E} c_{ij} x_{ij}\\\\\n",
        "  \\textrm{s.t.} & \\sum_{(i,j)\\in \\mathcal \\delta(S)} x_{ij} \\ge 1 & \\forall S\\subset V:S\\neq \\emptyset\\\\\n",
        "                & x_{ij} \\in \\{0,1\\} & \\forall (i,j)\\in E\n",
        "\\end{array}\n",
        "$$"
      ],
      "metadata": {
        "id": "DQmaVPUHP62j"
      }
    },
    {
      "cell_type": "code",
      "source": [
        "import numpy as np\n",
        "import math\n",
        "\n",
        "k = 11\n",
        "grid_size = 100 # size of the grid of points\n",
        "\n",
        "# distance beyond which we don't want edges\n",
        "d_max = .75 * grid_size\n",
        "\n",
        "np.random.seed(12345)\n",
        "\n",
        "point = grid_size * np.random.random((k,2))   # Create k random points with two coordinates. Multiplying by grid_size yields random numbers between 0 and 100.\n",
        "plot.scatter(point[:, 0], point[:, 1])    # scatter plot just to show points as circles\n",
        "plot.show()   # show the plot\n",
        "\n",
        "\n",
        "V = [i for i in range(k)] # Define the set of vertices of the graph as the list of numbers from 0 to k-1\n",
        "\n",
        "distance = np.array([[math.sqrt(np.sum((point[i] - point[j])**2)) for i in V] for j in V])    # Determine the distance between each point\n",
        "\n",
        "# Set of edges: note the condition that i<j (so we have pairs i,j but not j,i) and especially the condition that prevents long arcs.\n",
        "E = [(i,j) for i in V for j in V if (distance[i,j] <= d_max and i<j)]\n",
        "\n",
        "from itertools import chain, combinations\n",
        "powerset = list(chain.from_iterable(combinations(V, r) for r in V))\n",
        "\n",
        "import mip\n",
        "\n",
        "m9 = mip.Model()\n",
        "x = {(i,j):m9.add_var(var_type=mip.BINARY) for (i,j) in E}\n",
        "m9.objective = mip.minimize(mip.xsum(distance[i,j]*x[i,j] for (i,j) in E))\n",
        "\n",
        "for S in powerset:\n",
        "  if len(S) > 0 and len(S) < k:\n",
        "    m9.add_constr(mip.xsum(x[i,j] for (i,j) in E if ((i in S and j not in S) or (j in S and i not in S))) >= 1)\n",
        "\n",
        "m9.optimize()\n",
        "\n",
        "for (i,j) in E:\n",
        "  if x[i,j].x > 0.001:    # !!!!!!!!!!!!!!! compare to zero\n",
        "    print(f'{i} ---> {j}')\n",
        "\n",
        "sol = [(i,j) for (i,j) in E if x[i,j].x > 0.001]\n",
        "print(f'{len(sol)} selected. {sol}')\n",
        "\n",
        "import networkx as nx\n",
        "\n",
        "def draw_solution(V, A, x):\n",
        "    g = nx.Graph()\n",
        "\n",
        "    # Draw the whole graph first: all nodes, all arcs, no highlighting\n",
        "    g.add_nodes_from(V)\n",
        "    g.add_edges_from([(i,j) for (i,j) in A])\n",
        "    nx.draw(g, pos=point)\n",
        "\n",
        "    # Reset the graph and add only the arcs that belong to the solution, \n",
        "    # i.e. those for which the optimal value of the variable f[i,j] is nonzero\n",
        "    g.clear()\n",
        "    g.add_edges_from([(i,j) for (i,j) in A if x[i,j].x > 0.001])\n",
        "    nx.draw(g, pos=point, width=3, edge_color='red')\n",
        "\n",
        "    # finally, draw a graph consisting of the sole root node, highlighted in green\n",
        "    g.clear()\n",
        "    g.add_node(0)\n",
        "    nx.draw(g, pos={0: point[0]}, node_color='green')\n",
        "    \n",
        "# after defining the function, call it with the current data\n",
        "draw_solution (V, E, x)"
      ],
      "metadata": {
        "colab": {
          "base_uri": "https://localhost:8080/",
          "height": 761
        },
        "id": "qnq6WOqlQLkV",
        "outputId": "5fb698ab-7668-4441-b405-fdfbe45ff925"
      },
      "execution_count": 8,
      "outputs": [
        {
          "output_type": "display_data",
          "data": {
            "text/plain": [
              "<Figure size 432x288 with 1 Axes>"
            ],
            "image/png": "[encoded data removed]"
          },
          "metadata": {
            "needs_background": "light"
          }
        },
        {
          "output_type": "stream",
          "name": "stdout",
          "text": [
            "0 ---> 3\n",
            "1 ---> 6\n",
            "1 ---> 7\n",
            "2 ---> 7\n",
            "2 ---> 10\n",
            "3 ---> 4\n",
            "3 ---> 9\n",
            "4 ---> 10\n",
            "5 ---> 8\n",
            "8 ---> 9\n",
            "10 selected. [(0, 3), (1, 6), (1, 7), (2, 7), (2, 10), (3, 4), (3, 9), (4, 10), (5, 8), (8, 9)]\n"
          ]
        },
        {
          "output_type": "display_data",
          "data": {
            "text/plain": [
              "<Figure size 432x288 with 1 Axes>"
            ],
            "image/png": "[encoded data removed]"
          },
          "metadata": {}
        }
      ]
    },
    {
      "cell_type": "markdown",
      "source": [
        "### TSP - Traveling Salesman Problem"
      ],
      "metadata": {
        "id": "B21cf8OUQMHl"
      }
    },
    {
      "cell_type": "markdown",
      "source": [
        "Find the shortest Hamiltonian circuit through $n$ nodes where the distance between any two nodes is known. In particular:\n",
        "\n",
        "1. Generate $k$ points by creating random $x,y$ coordinates for each; the coordinates should be in the interval $[0,100]$;\n",
        "2. Assume the graph $G = (V,A)$ on which to solve the TSP is _complete_, i.e. any two pairs are connected by an arc;\n",
        "3. Create the optimization model for the TSP by only adding _flow conservation_ constraints, i.e., do not add any subtour elimination constraints;\n",
        "4. Iteratively solve the optimization model and then add subtour elimination constraints until the solution is a single (optimal) tour.\n",
        "\n",
        "$$\n",
        "\\begin{array}{lll}\n",
        "   \\min & \\sum_{(i,j) \\in E} d_{ij} x_{ij}\\\\\n",
        "   \\textrm{s.t.} & \\sum_{j \\in V: (i,j) \\in E} x_{ij} = 2 & \\forall i\\in V\\\\\n",
        "                 & \\sum_{(i,j) \\in E: i\\in C, j\\in C} x_{ij} \\le |C| - 1 & \\forall C\\subset V: C \\neq \\emptyset\\\\\n",
        "                 & x_{ij} \\in \\{0,1\\} & \\forall (i,j) \\in E\n",
        "\\end{array}\n",
        "$$\n",
        "\n",
        "In the first version of our model, we won't include any subtour-elimination constraint but will only add the first set."
      ],
      "metadata": {
        "id": "7qI3sirzQa1c"
      }
    },
    {
      "cell_type": "code",
      "source": [
        "import numpy as np\n",
        "import math\n",
        "\n",
        "k = 7  # number of nodes\n",
        "\n",
        "grid_size = 100 # size of the grid of points\n",
        "\n",
        "# Create k random points with two coordinates. Multiplying by grid_size yields\n",
        "# random numbers between 0 and 100.\n",
        "np.random.seed(1337)\n",
        "point = grid_size * np.random.random((k,2))\n",
        "\n",
        "# Define the set of vertices of the graph as the list of numbers from 0 to k-1\n",
        "V = [i for i in range(k)]\n",
        "\n",
        "# Determine the distance between each point\n",
        "distance = np.array([[math.sqrt(np.sum((point[i] - point[j])**2)) for i in V] for j in V])\n",
        "\n",
        "import matplotlib.pyplot as plot\n",
        "plot.scatter(point[:,0], point[:,1])\n",
        "plot.show()\n",
        "\n",
        "import networkx as nx\n",
        "\n",
        "# Set of edges: note the condition that i<j as these are edges, undirected\n",
        "E = [(i,j) for i in V for j in V if i < j]\n",
        "\n",
        "# Define a dictionary whose keys are the nodes, and the values are tuples\n",
        "# containing the (x,y) coordinates of each point\n",
        "coord = {i: (point[i,0], point[i,1]) for i in V}\n",
        "\n",
        "g = nx.Graph()\n",
        "\n",
        "g.add_nodes_from(V)\n",
        "g.add_edges_from(E)\n",
        "\n",
        "nx.draw(g, pos=coord)\n",
        "\n",
        "import mip\n",
        "\n",
        "m10 = mip.Model()\n",
        "x = {(i,j):m10.add_var(var_type=mip.BINARY) for (i,j) in E}\n",
        "m10.objective = mip.minimize(mip.xsum(distance[i,j]*x[i,j] for (i,j) in E))\n",
        "\n",
        "for i in V:\n",
        "  m10.add_constr(mip.xsum(x[i,j] for j in V if i<j) + mip.xsum(x[j,i] for j in V if j<i) == 2)\n",
        "\n",
        "m10.optimize()\n",
        "\n",
        "for (i,j) in E:\n",
        "  if x[i,j].x > 0.001:\n",
        "    print(f'{i} ---> {j}')\n",
        "\n",
        "sol = [(i,j) for (i,j) in E if x[i,j].x > 0.001]\n",
        "print(f'{len(sol)} selected. {sol}')\n",
        "\n",
        "def draw_solution(V, A, x):\n",
        "    g = nx.Graph()\n",
        "\n",
        "    # Draw the whole graph first: all nodes, all arcs, no highlighting\n",
        "    g.add_nodes_from(V)\n",
        "    g.add_edges_from([(i,j) for (i,j) in A])\n",
        "    nx.draw(g, pos=coord, with_labels=True, node_color=\"white\")\n",
        "\n",
        "    # Reset the graph and add only the arcs that belong to the solution, \n",
        "    # i.e. those for which the optimal value of the variable x[i,j] is nonzero\n",
        "    g.clear()\n",
        "    g.add_edges_from([(i,j) for (i,j) in A if x[i,j].x > 0.5])\n",
        "    nx.draw(g, pos=coord, width=4, edge_color='red', with_labels=True, node_color='white')\n",
        "\n",
        "    # finally, draw a graph consisting of the sole root node, highlighted in green\n",
        "    g.clear()\n",
        "    g.add_node(0)\n",
        "    nx.draw(g, pos={0: coord[0]}, node_color='white', with_labels=True)\n",
        "\n",
        "    \n",
        "# after defining the function, call it with the current data\n",
        "draw_solution (V, E, x)"
      ],
      "metadata": {
        "colab": {
          "base_uri": "https://localhost:8080/",
          "height": 706
        },
        "id": "riXS1XGPSpEF",
        "outputId": "5b44bc04-77ce-4154-e394-f2d368978e47"
      },
      "execution_count": 21,
      "outputs": [
        {
          "output_type": "display_data",
          "data": {
            "text/plain": [
              "<Figure size 432x288 with 1 Axes>"
            ],
            "image/png": "[encoded data removed]"
          },
          "metadata": {
            "needs_background": "light"
          }
        },
        {
          "output_type": "stream",
          "name": "stdout",
          "text": [
            "0 ---> 1\n",
            "0 ---> 4\n",
            "1 ---> 2\n",
            "2 ---> 4\n",
            "3 ---> 5\n",
            "3 ---> 6\n",
            "5 ---> 6\n",
            "7 selected. [(0, 1), (0, 4), (1, 2), (2, 4), (3, 5), (3, 6), (5, 6)]\n"
          ]
        },
        {
          "output_type": "display_data",
          "data": {
            "text/plain": [
              "<Figure size 432x288 with 1 Axes>"
            ],
            "image/png": "[encoded data removed]"
          },
          "metadata": {}
        }
      ]
    },
    {
      "cell_type": "code",
      "source": [
        "m10.add_constr(x[3,6] + x[3,5] + x[5,6] <= 2)\n",
        "m10.optimize()\n",
        "draw_solution (V, E, x)"
      ],
      "metadata": {
        "colab": {
          "base_uri": "https://localhost:8080/",
          "height": 319
        },
        "id": "3MrughSVZUdG",
        "outputId": "b2ad2684-f2a4-481e-cd96-0aa49f2da74c"
      },
      "execution_count": 22,
      "outputs": [
        {
          "output_type": "display_data",
          "data": {
            "text/plain": [
              "<Figure size 432x288 with 1 Axes>"
            ],
            "image/png": "[encoded data removed]"
          },
          "metadata": {}
        }
      ]
    },
    {
      "cell_type": "markdown",
      "source": [
        "### Product mix problem"
      ],
      "metadata": {
        "id": "c4iu7mCjeO4P"
      }
    },
    {
      "cell_type": "markdown",
      "source": [
        "A factory produces 4 types of perfume by mixing 5 ingredients. Denote as $P=\\{1,2,3,4\\}$ the set of perfumes, and as $I=\\{1,2,3,4,5\\}$ the set of ingredients. The retail price for each liter of perfume $p\\in P$ is $c_p$, defined in the table below:\n",
        "\n",
        "|Perfume | 1 | 2 | 3 | 4 |\n",
        "|--------|---|---|---|---|\n",
        "|Retail price  |300|255|260|390|\n",
        "\n",
        "One liter of perfume $p$ requires a quantity $a_{ip}$ of the ingredient $i$, also expressed in liters, as specified below:\n",
        "\n",
        "|Ingredient\\Perfume|1|2|3|4|\n",
        "|-|-|-|-|-|\n",
        "|1|0.01|0.05|0.07|0.04|\n",
        "|2|0.34|0.45|0.36|0.51|\n",
        "|3|0.08|0.06|0.12|0.12|\n",
        "|4|0.55|0.35|0.29|0.32|\n",
        "|5|0.02|0.09|0.16|0.01|\n",
        "\n",
        "There is a finite amount (in liters) of each ingredient expressed by $b_i$, for all $i\\in I$ and defined in the following table:\n",
        "\n",
        "|Ingredient|1|2|3|4|5|\n",
        "|----------|-|-|-|-|-|\n",
        "|Availability|30|400|90|450|70|\n",
        "\n",
        "Determine the amount of perfume to produce for each type in order to maximize the total revenue."
      ],
      "metadata": {
        "id": "QvN0PbJNeeSy"
      }
    },
    {
      "cell_type": "code",
      "source": [
        "import mip\n",
        "\n",
        "c = [300, 255, 260, 390] # price of each perfume in eur per liter\n",
        "b = [30, 400, 90, 450, 70] # availability of each ingredient in liters\n",
        "\n",
        "A = \\\n",
        "[[0.01, 0.05, 0.07, 0.04],\n",
        " [0.34, 0.45, 0.36, 0.51],\n",
        " [0.08, 0.06, 0.12, 0.12],\n",
        " [0.55, 0.35, 0.29, 0.32],\n",
        " [0.02, 0.09, 0.16, 0.01]] # ingredient/perfume\n",
        "\n",
        "n = len(c)\n",
        "k = len(b)\n",
        "\"\"\"\n",
        "m17 = mip.Model()\n",
        "x = {i : m17.add_var() for i in range(n)}\n",
        "\n",
        "m17.objective = mip.maximize(mip.xsum(c[i]*x[i] for i in range(n)))\n",
        "\n",
        "for j in range(k):\n",
        "  m17.add_constr(mip.xsum(A[j][i]*x[i] for i in range(n)) <= b[j])\n",
        "\"\"\"\n",
        "def prod_mix(A,b,c):\n",
        "\n",
        "  m17 = mip.Model()\n",
        "  x = {i : m17.add_var() for i in range(n)}\n",
        "\n",
        "  m17.objective = mip.maximize(mip.xsum(c[i]*x[i] for i in range(n)))\n",
        "\n",
        "  for j in range(k):\n",
        "    m17.add_constr(mip.xsum(A[j][i]*x[i] for i in range(n)) <= b[j])\n",
        "  m17.optimize()\n",
        "\n",
        "  return ([x[i].x for i in range(n)], m17.objective_value)\n",
        "\n",
        "solution, revenue = prod_mix(A,b,c)\n",
        "\n",
        "print(f'Total revenue = {revenue}')\n",
        "print(solution)\n"
      ],
      "metadata": {
        "colab": {
          "base_uri": "https://localhost:8080/"
        },
        "id": "EgueiO4Ne9xs",
        "outputId": "7c6ed9bd-3077-4db3-a67e-da0e19cbb9cc"
      },
      "execution_count": 32,
      "outputs": [
        {
          "output_type": "stream",
          "name": "stdout",
          "text": [
            "Total revenue = 320809.2155369383\n",
            "[573.115003808073, 89.74358974359002, 0.0, 323.0515359228229]\n"
          ]
        }
      ]
    },
    {
      "cell_type": "markdown",
      "source": [
        "### Facility location"
      ],
      "metadata": {
        "id": "wa_fN1g_QHoZ"
      }
    },
    {
      "cell_type": "markdown",
      "source": [
        "A region wants to build $p$ airports to serve a set $N = \\{0,1,\\ldots{},n-1\\}$ of $n$ cities. There are $m>p$ candidate sites for the airports, each with an estimate cost $c_j$ to build an airport at location $j$ for $j\\in M=\\{0,1,...,m-1\\}$.\n",
        "\n",
        "Each airport can serve a subset of cities, and it is assumed that every city $i$ is served by __one__ airport $j$. The 20-year cost of maintaining the road between city $i$ and airport $j$, mostly proportional to the distance between $i$ and $j$, is denoted as $d_{ij}$. It is calculated as $400k$ euro per km.\n",
        "\n",
        "Formulate the problem of _locating_ the $p$ airport sites as a discrete optimization problem.\n",
        "\n",
        "The model contains:\n",
        "* Sets: $N$ (set of cities), $M$ (set of candidate sites);\n",
        "* Indices: $i$ for cities, $j$ for sites;\n",
        "* Parameters: $c_j$ (cost of building airport at $j$), $d_{ij}$ (maintenance cost of road between city $i$ and airport $j$).\n",
        "\n",
        "There are two classes of variables for this problem:\n",
        "\n",
        "* binary variable $y_j$ for $j\\in M$: it is 1 if an airport is built at candidate site $j$, 0 otherwise;\n",
        "* binary variable $x_{ij}$ for $i \\in N$, $j\\in M$: 1 if city $i$ is associated with (i.e. served by) airport $j$.\n",
        "\n",
        "The objective function, to be minimized, is the total (building + road maintenance) cost:\n",
        "\n",
        "$$\n",
        "\\sum_{j \\in M} c_j y_j + \\sum_{i\\in N} \\sum_{j\\in M} d_{ij} y_{ij}.\n",
        "$$\n",
        "\n",
        "The constraints are as follows:\n",
        "\n",
        "* $p$ airports must be built: $\\sum_{j\\in M} y_j = p$;\n",
        "* for each city $i$: city $i$ is served by one airport: $\\sum_{j\\in M} x_{ij} = 1 \\forall i\\in N$;\n",
        "* the last class of constraints is tricky: if one or more cities $i\\in N$ are served by airport $j$, then $y_j$ must be 1. This constraint is not explicit in the definition of the problem, but it is a result of our modeling choice with variables. We'll formulate it this way:\n",
        "\n",
        "$$\n",
        "\\sum_{i\\in N} x_{ij} \\le ny_j.\n",
        "$$\n",
        "\n",
        "The meaning of the last set of constraints is obvious: if no airport is built at $j$, i.e., $y_j=0$, then all $x_{ij}$ on the left-hand side, i.e. all assignments from cities $i$ to airport $j$, will have to be zero. Viceversa, if any $x_{ij}$ is 1, then the sum on the left-hand side is positive and this forces $y_j$ to be 1.\n"
      ],
      "metadata": {
        "id": "Q7SpX3ekQBsk"
      }
    },
    {
      "cell_type": "code",
      "source": [
        "import mip\n",
        "import numpy as np\n",
        "\n",
        "ncities = 12  # cities\n",
        "ncand = 50  # candidate sites for airports\n",
        "p = 3   # number of airports to build\n",
        "\n",
        "N = range(ncities) # cities\n",
        "M = range(ncand) # candidate sites\n",
        "\n",
        "# Airport building costs (in million euro)\n",
        "build_cost = 1e3 + np.random.randint(2e3, size=ncand)\n",
        "\n",
        "mcpk = .4  # Maintenance Cost (in million euro per km)\n",
        "\n",
        "a_crd = 1000 * np.random.random((ncand,2))  # airport coordinates\n",
        "c_crd  = 1000 * np.random.random((ncities,2))  # city coordinates\n",
        "\n",
        "# Maintenance cost is a constant factor times the\n",
        "# Euclidean distances between every city and every airport\n",
        "maint_cost = {(i,j): mcpk * math.sqrt((c_crd[i,0] - a_crd[j,0])**2 + \n",
        "                                      (c_crd[i,1] - a_crd[j,1])**2)\n",
        "             for i in N for j in M}\n",
        "\n",
        "m14 = mip.Model()\n",
        "\n",
        "x = {(i,j) : m14.add_var(var_type = mip.BINARY) for i in N for j in M}\n",
        "y = {j : m14.add_var(var_type = mip.BINARY) for j in M}\n",
        "\n",
        "m14.add_constr(mip.xsum(y[j] for j in M) == p)\n",
        "\n",
        "for i in N:\n",
        "  m14.add_constr(mip.xsum(x[i,j] for j in M) == 1)\n",
        "\n",
        "for j in M:\n",
        "  m14.add_constr(mip.xsum(x[i,j] for i in N) <= ncities*y[j])\n",
        "\n",
        "m14.objective = mip.minimize(mip.xsum(build_cost[j]*y[j] for j in M) + mip.xsum(maint_cost[i,j]*x[i,j] for i in N for j in M))\n",
        "m14.optimize()\n",
        "\n",
        "\n",
        "\n",
        "def print_result(m,x,y):\n",
        "\n",
        "    import networkx as nx\n",
        "    import matplotlib.pyplot as plt\n",
        "    \n",
        "    print(f\"Cost: {m.objective_value:.2f} M euro\")\n",
        "\n",
        "    print(\"Airports:\")\n",
        "    for j in M:\n",
        "        if y[j].x > 0:\n",
        "            print(f\"{j:3d} --> {y[j].x:7.3f}; cities: \", end='')\n",
        "            for i in N:\n",
        "                if x[i,j].x > 0:\n",
        "                    print(f\"{i} ({x[i,j].x:.2f}); \", end='')\n",
        "            print('')\n",
        "    # Visualize solution on graph\n",
        "    pos_a = {f'A{j}': (a_crd[j][0], a_crd[j][1]) for j in M}\n",
        "    pos_c = {f'C{i}': (c_crd[i][0], c_crd[i][1]) for i in N}\n",
        "    \n",
        "    nodepos = {**pos_a, **pos_c}\n",
        "    \n",
        "    g = nx.Graph()\n",
        "    g.add_nodes_from([f'A{j}' for j in M])\n",
        "    g.add_nodes_from([f'C{i}' for i in N])\n",
        "    edges = [(f'A{j}', f'C{i}') for j in M for i in N if x[i,j].x > 0] \n",
        "    g.add_edges_from(edges)\n",
        "    color = ['yellow' if y[j].x > 0 else 'cyan' for j in M] + ['pink']*ncities\n",
        "    plt.figure(1, figsize=(14,14))\n",
        "    nx.draw_networkx(g, font_size=11, pos=nodepos, node_color=color)\n",
        "    plt.show()\n",
        "    \n",
        "print_result(m14,x,y)"
      ],
      "metadata": {
        "colab": {
          "base_uri": "https://localhost:8080/",
          "height": 879
        },
        "id": "AHbf4hbkQOhP",
        "outputId": "d1431150-e968-4bd2-a4ef-640897f4bb00"
      },
      "execution_count": 27,
      "outputs": [
        {
          "output_type": "stream",
          "name": "stdout",
          "text": [
            "Cost: 4686.53 M euro\n",
            "Airports:\n",
            " 14 -->   1.000; cities: 8 (1.00); 10 (1.00); \n",
            " 17 -->   1.000; cities: 1 (1.00); 3 (1.00); 4 (1.00); 5 (1.00); 6 (1.00); 7 (1.00); \n",
            " 29 -->   1.000; cities: 0 (1.00); 2 (1.00); 9 (1.00); 11 (1.00); \n"
          ]
        },
        {
          "output_type": "display_data",
          "data": {
            "text/plain": [
              "<Figure size 1008x1008 with 1 Axes>"
            ],
            "image/png": "[encoded data removed]"
          },
          "metadata": {}
        }
      ]
    },
    {
      "cell_type": "markdown",
      "source": [
        "### Knapsack problem"
      ],
      "metadata": {
        "id": "YvCHE6DUbgpn"
      }
    },
    {
      "cell_type": "markdown",
      "source": [
        "In part I we saw how to add inequalities to tighten a formulation. We now look at another well-known problem in Optimization, the Knapsack problem. Given a set $N$ of $n$ objects, each with a value $v_i$ and a weight $p_i$, find the subset of $N$ that maximizes the total value while maintaining the total weight below a given limit $q$.\n",
        "\n",
        "We can model the problem as follows:\n",
        "$$\n",
        "\\begin{array}{lll}\n",
        "\\max & \\sum_{i\\in N} v_i x_i\\\\\n",
        "\\textrm{s.t.} & \\sum_{i\\in N} p_i x_i \\le q\\\\\n",
        "              & x_i \\in \\{0,1\\} & \\forall i\\in N\n",
        "\\end{array}\n",
        "$$"
      ],
      "metadata": {
        "id": "QGneUQqtbk63"
      }
    },
    {
      "cell_type": "code",
      "source": [
        "import mip\n",
        "import numpy as np\n",
        "\n",
        "np.random.seed(987654320)\n",
        "\n",
        "n = 10  # number of items\n",
        "N = range(n)\n",
        "q = 210  # capacity of the knapsack\n",
        "v = np.random.randint(100, size=n)  # value of each item\n",
        "p = np.random.randint(100, size=n)  # weight of each item\n",
        "\n",
        "m15 = mip.Model()\n",
        "\n",
        "x = {i : m15.add_var(var_type=mip.BINARY) for i in N}\n",
        "\n",
        "m15.add_constr(mip.xsum(p[i]*x[i] for i in N) <= q)\n",
        "m15.objective = mip.maximize(mip.xsum(v[i]*x[i] for i in N))\n",
        "m15.optimize()\n",
        "\n",
        "print([i for i in N if x[i].x == 1])"
      ],
      "metadata": {
        "colab": {
          "base_uri": "https://localhost:8080/"
        },
        "id": "oJONXVMbS6lr",
        "outputId": "82b2a37c-6ee3-4293-a85c-82031443188a"
      },
      "execution_count": 29,
      "outputs": [
        {
          "output_type": "stream",
          "name": "stdout",
          "text": [
            "[0, 5, 7, 8, 9]\n"
          ]
        }
      ]
    }
  ]
}