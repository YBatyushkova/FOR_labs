{
  "nbformat": 4,
  "nbformat_minor": 0,
  "metadata": {
    "colab": {
      "provenance": [],
      "authorship_tag": "ABX9TyP1SdWzc4Rj0cow3Yrpo1VI",
      "include_colab_link": true
    },
    "kernelspec": {
      "name": "python3",
      "display_name": "Python 3"
    },
    "language_info": {
      "name": "python"
    }
  },
  "cells": [
    {
      "cell_type": "markdown",
      "metadata": {
        "id": "view-in-github",
        "colab_type": "text"
      },
      "source": [
        "<a href=\"https://colab.research.google.com/github/YBatyushkova/FOR_labs/blob/main/Lab_Exam.ipynb\" target=\"_parent\"><img src=\"https://colab.research.google.com/assets/colab-badge.svg\" alt=\"Open In Colab\"/></a>"
      ]
    },
    {
      "cell_type": "markdown",
      "source": [
        "# AMPL exercises"
      ],
      "metadata": {
        "id": "DYXbB-c0BXtD"
      }
    },
    {
      "cell_type": "markdown",
      "source": [
        "## Previous years exams"
      ],
      "metadata": {
        "id": "FVjm_oLwCGIR"
      }
    },
    {
      "cell_type": "markdown",
      "source": [
        "**1) 01.2019**\n",
        "\n",
        "Write the definition in the AMPL modelling language of the following:\n",
        "\n",
        "* a set $I$ of all the integers between 1 and 10.\n",
        "* a positive variable $x_i$ with $i ∈ {I ∪ 0}$.\n",
        "* a parameter $b_{i,j}$ with $i ∈ I$ and $j ∈ {I ∪ 0}$.\n",
        "\n",
        "Then using the defined variables and parameters write in the AMPL modelling language the following **constraint**:\n",
        "\n",
        "$$\n",
        "\\sum_{i \\in I}\\sum_{j \\in J} b_{i,j}x_j \\le \\sum_{i \\in I}b_{i,0}x_0\n",
        "$$"
      ],
      "metadata": {
        "id": "2HXTa5kNCMwr"
      }
    },
    {
      "cell_type": "code",
      "source": [],
      "metadata": {
        "id": "u10rNoAyCQJB"
      },
      "execution_count": null,
      "outputs": []
    },
    {
      "cell_type": "markdown",
      "source": [
        "**2) 02.2019**\n",
        "\n",
        "Write the definition in the AMPL modelling language of the following:\n",
        "* a set $I$.\n",
        "* a set $J$.\n",
        "* a parameter $b_{i,j}$ with $i ∈ I$ and $j ∈ J$.\n",
        "* an integer variable $x_{i,j}$ with $i ∈ I$ and $j ∈ J$.\n",
        "\n",
        "Then write an **objective function** that maximizes the following quantity:\n",
        "\n",
        "\n",
        "$$\n",
        "\\sum_{i \\in I, j \\in J, |b_{i,j} > 0|}x_{i,j}\n",
        "$$"
      ],
      "metadata": {
        "id": "5m8p6bXWE0SG"
      }
    }
  ]
}